{
 "cells": [
  {
   "cell_type": "code",
   "execution_count": 41,
   "metadata": {},
   "outputs": [],
   "source": [
    "import torch\n",
    "import torch.nn as nn\n",
    "import torch.optim as optim\n",
    "import torch.nn.functional as F\n",
    "\n",
    "import torchvision\n",
    "import torchvision.transforms as transforms\n",
    "\n",
    "from torch.utils.tensorboard import SummaryWriter\n",
    "import copy"
   ]
  },
  {
   "cell_type": "code",
   "execution_count": 42,
   "metadata": {},
   "outputs": [
    {
     "data": {
      "text/plain": [
       "Dataset FashionMNIST\n",
       "    Number of datapoints: 60000\n",
       "    Root location: ./data/FashionMNIST\n",
       "    Split: Train"
      ]
     },
     "execution_count": 42,
     "metadata": {},
     "output_type": "execute_result"
    }
   ],
   "source": [
    "train_set = torchvision.datasets.FashionMNIST(root='./data/FashionMNIST', train=True, download=True, transform=transforms.Compose([transforms.ToTensor()]))\n",
    "test_set = torchvision.datasets.FashionMNIST(root='./data/FashionMNIST', train=False, download=True, transform=transforms.Compose([transforms.ToTensor()]))"
   ]
  },
  {
   "cell_type": "code",
   "execution_count": 45,
   "metadata": {},
   "outputs": [],
   "source": [
    "train_loader = torch.utils.data.DataLoader(train_set, batch_size=10)\n",
    "test_loader = torch.utils.data.DataLoader(test_set, batch_size=1)\n",
    "\n",
    "data_loader = {\n",
    "    'train': train_loader,\n",
    "    'val': test_loader\n",
    "}\n",
    "\n",
    "data_size = {\n",
    "    'train': len(train_set),\n",
    "    'val': len(test_set)\n",
    "}"
   ]
  },
  {
   "cell_type": "code",
   "execution_count": 46,
   "metadata": {},
   "outputs": [],
   "source": [
    "class Network(nn.Module):\n",
    "    def __init__(self):\n",
    "        super().__init__()\n",
    "        self.conv1 =nn.Conv2d(in_channels=1, out_channels=6, kernel_size=5)\n",
    "        self.conv2 = nn.Conv2d(in_channels=6, out_channels=12, kernel_size=5)\n",
    "        self.fc1 = nn.Linear(in_features=12 * 4 * 4, out_features=120)\n",
    "        self.fc2 = nn.Linear(in_features=120, out_features=60)\n",
    "        self.out = nn.Linear(in_features=60, out_features=10)\n",
    "        \n",
    "    def forward(self, t):\n",
    "        t = F.max_pool2d(F.relu(self.conv1(t)), kernel_size=2)\n",
    "        t = F.max_pool2d(F.relu(self.conv2(t)), kernel_size=2)\n",
    "        t = t.reshape(-1, 12*4*4)\n",
    "        t = F.relu(self.fc1(t))\n",
    "        t = F.relu(self.fc2(t))\n",
    "        t = self.out(t)\n",
    "        #t = F.softmax(t, dim=1) # Loss function we are going to use performs the softmax function\n",
    "        \n",
    "        return t"
   ]
  },
  {
   "cell_type": "code",
   "execution_count": 51,
   "metadata": {},
   "outputs": [],
   "source": [
    "network = Network()\n",
    "lr = 0.01\n",
    "epochs = 10\n",
    "optimizer = optim.Adam(network.parameters(), lr=lr)\n",
    "best_acc = 0.0\n",
    "best_model_weights = 0.0"
   ]
  },
  {
   "cell_type": "code",
   "execution_count": 52,
   "metadata": {},
   "outputs": [],
   "source": [
    "tb = SummaryWriter(comment=\"test_network\")"
   ]
  },
  {
   "cell_type": "code",
   "execution_count": null,
   "metadata": {},
   "outputs": [
    {
     "name": "stdout",
     "output_type": "stream",
     "text": [
      "Epoch: 0 train loss: 3909.393696174724 Number correct: 45180 Accuracy: 75.3 %\n",
      "Epoch: 0 val loss: 5424.159754067659 Number correct: 8050 Accuracy: 80.5 %\n",
      "Epoch: 1 train loss: 3200.9323345459998 Number correct: 48580 Accuracy: 80.96666666666667 %\n",
      "Epoch: 1 val loss: 5160.5871496498585 Number correct: 8198 Accuracy: 81.98 %\n",
      "Epoch: 2 train loss: 3149.088037339039 Number correct: 48935 Accuracy: 81.55833333333334 %\n",
      "Epoch: 2 val loss: 5289.056150257587 Number correct: 8083 Accuracy: 80.83 %\n",
      "Epoch: 3 train loss: 3121.4850941256154 Number correct: 49011 Accuracy: 81.685 %\n",
      "Epoch: 3 val loss: 5959.346417343244 Number correct: 8063 Accuracy: 80.63 %\n",
      "Epoch: 4 train loss: 3116.6658673509955 Number correct: 48914 Accuracy: 81.52333333333334 %\n",
      "Epoch: 4 val loss: 5410.351660350338 Number correct: 8241 Accuracy: 82.41000000000001 %\n"
     ]
    }
   ],
   "source": [
    "for epoch in range(epochs):\n",
    "    for phase in ['train', 'val']:\n",
    "        if phase == 'train':\n",
    "            network.train()\n",
    "        else:\n",
    "            network.eval()\n",
    "        \n",
    "        running_loss = 0\n",
    "        num_correct = 0\n",
    "        \n",
    "        for batch in data_loader[phase]:\n",
    "            images, labels = batch\n",
    "            \n",
    "            with torch.set_grad_enabled(phase == 'train'):\n",
    "                predictions = network(images)\n",
    "                loss = F.cross_entropy(predictions, labels)\n",
    "                optimizer.zero_grad()\n",
    "                \n",
    "                if phase == 'train':\n",
    "                    loss.backward()\n",
    "                    optimizer.step()\n",
    "                \n",
    "            running_loss += loss.item()\n",
    "            num_correct += predictions.argmax(dim=1).eq(labels).sum().item()\n",
    "        \n",
    "        accuracy = (num_correct / data_size[phase]) * 100\n",
    "        tb.add_scalar(phase + \" loss\", running_loss, epoch)\n",
    "        tb.add_scalar(phase + \" acc\", accuracy, epoch)\n",
    "        \n",
    "        if phase == 'val' and accuracy > best_acc:\n",
    "            best_acc = accuracy\n",
    "            best_model_weights = copy.deepcopy(network.state_dict())\n",
    "        \n",
    "        print(\"Epoch:\", epoch, phase, \"loss:\", running_loss, \"Number correct:\", num_correct, \"Accuracy:\", accuracy, \"%\")\n",
    "\n",
    "trained_model = network.load_state_dict(best_model_weights)"
   ]
  },
  {
   "cell_type": "code",
   "execution_count": null,
   "metadata": {},
   "outputs": [],
   "source": []
  }
 ],
 "metadata": {
  "kernelspec": {
   "display_name": "Python 3",
   "language": "python",
   "name": "python3"
  },
  "language_info": {
   "codemirror_mode": {
    "name": "ipython",
    "version": 3
   },
   "file_extension": ".py",
   "mimetype": "text/x-python",
   "name": "python",
   "nbconvert_exporter": "python",
   "pygments_lexer": "ipython3",
   "version": "3.7.3"
  }
 },
 "nbformat": 4,
 "nbformat_minor": 2
}
